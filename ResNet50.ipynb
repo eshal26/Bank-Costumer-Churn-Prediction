{
  "nbformat": 4,
  "nbformat_minor": 0,
  "metadata": {
    "colab": {
      "provenance": [],
      "gpuType": "T4",
      "authorship_tag": "ABX9TyPETWtcy1OWAov20CuNcaoV",
      "include_colab_link": true
    },
    "kernelspec": {
      "name": "python3",
      "display_name": "Python 3"
    },
    "language_info": {
      "name": "python"
    },
    "accelerator": "GPU"
  },
  "cells": [
    {
      "cell_type": "markdown",
      "metadata": {
        "id": "view-in-github",
        "colab_type": "text"
      },
      "source": [
        "<a href=\"https://colab.research.google.com/github/eshal26/Bank-Costumer-Churn-Prediction/blob/main/ResNet50.ipynb\" target=\"_parent\"><img src=\"https://colab.research.google.com/assets/colab-badge.svg\" alt=\"Open In Colab\"/></a>"
      ]
    },
    {
      "cell_type": "code",
      "execution_count": null,
      "metadata": {
        "id": "XqiR6W9dQMJ0"
      },
      "outputs": [],
      "source": [
        "!unzip Segmented.zip"
      ]
    },
    {
      "cell_type": "code",
      "source": [
        "import torch\n",
        "import torchvision\n",
        "import torchvision.transforms as transforms\n",
        "from torchvision import datasets\n",
        "from torch.utils.data import DataLoader\n",
        "import os\n",
        "import sklearn\n",
        "from sklearn.model_selection import train_test_split"
      ],
      "metadata": {
        "id": "3UZRMdQkkF11"
      },
      "execution_count": 3,
      "outputs": []
    },
    {
      "cell_type": "code",
      "source": [
        "from sklearn.model_selection import train_test_split\n",
        "import shutil\n",
        "import os\n",
        "\n",
        "# Define paths to your original dataset directory\n",
        "original_data_dir = 'Segmented'\n",
        "\n",
        "# Define paths to create directories for the new dataset splits\n",
        "train_dir = 'train_dataset'\n",
        "val_dir = 'validation_dataset'\n",
        "test_dir = 'test_dataset'\n",
        "\n",
        "# Create directories for the new dataset splits\n",
        "os.makedirs(train_dir, exist_ok=True)\n",
        "os.makedirs(val_dir, exist_ok=True)\n",
        "os.makedirs(test_dir, exist_ok=True)\n",
        "\n",
        "# List of categories (classes)\n",
        "categories = ['Benign', 'Early', 'Pre', 'Pro']\n",
        "\n",
        "# Iterate over each category to split the dataset\n",
        "for category in categories:\n",
        "    category_dir = os.path.join(original_data_dir, category)\n",
        "    # Get list of all image filenames in the current category\n",
        "    image_files = [os.path.join(category_dir, img) for img in os.listdir(category_dir)]\n",
        "    # Split image filenames into training and testing sets\n",
        "    train_files, test_val_files = train_test_split(image_files, test_size=0.2, random_state=42)\n",
        "    val_files, test_files = train_test_split(test_val_files, test_size=0.5, random_state=42)\n",
        "\n",
        "    # Create directories for the current category in each split\n",
        "    train_category_dir = os.path.join(train_dir, category)\n",
        "    val_category_dir = os.path.join(val_dir, category)\n",
        "    test_category_dir = os.path.join(test_dir, category)\n",
        "    os.makedirs(train_category_dir, exist_ok=True)\n",
        "    os.makedirs(val_category_dir, exist_ok=True)\n",
        "    os.makedirs(test_category_dir, exist_ok=True)\n",
        "\n",
        "    # Copy files to the corresponding split directories\n",
        "    for file in train_files:\n",
        "        shutil.copy(file, train_category_dir)\n",
        "    for file in val_files:\n",
        "        shutil.copy(file, val_category_dir)\n",
        "    for file in test_files:\n",
        "        shutil.copy(file, test_category_dir)\n",
        "\n",
        "# Print out the number of images in each split and category\n",
        "def count_images(directory):\n",
        "    return sum(len(files) for _, _, files in os.walk(directory))\n",
        "\n",
        "for category in categories:\n",
        "    print(f\"Category: {category}\")\n",
        "    print(f\"Number of training images: {count_images(os.path.join(train_dir, category))}\")\n",
        "    print(f\"Number of validation images: {count_images(os.path.join(val_dir, category))}\")\n",
        "    print(f\"Number of test images: {count_images(os.path.join(test_dir, category))}\")\n",
        "    print(\"--------------------\")\n"
      ],
      "metadata": {
        "colab": {
          "base_uri": "https://localhost:8080/"
        },
        "id": "z1fa6t7LkXR7",
        "outputId": "70454912-302e-4316-9a40-de5a25b4d31b"
      },
      "execution_count": 4,
      "outputs": [
        {
          "output_type": "stream",
          "name": "stdout",
          "text": [
            "Category: Benign\n",
            "Number of training images: 403\n",
            "Number of validation images: 50\n",
            "Number of test images: 51\n",
            "--------------------\n",
            "Category: Early\n",
            "Number of training images: 788\n",
            "Number of validation images: 98\n",
            "Number of test images: 99\n",
            "--------------------\n",
            "Category: Pre\n",
            "Number of training images: 770\n",
            "Number of validation images: 96\n",
            "Number of test images: 97\n",
            "--------------------\n",
            "Category: Pro\n",
            "Number of training images: 643\n",
            "Number of validation images: 80\n",
            "Number of test images: 81\n",
            "--------------------\n"
          ]
        }
      ]
    },
    {
      "cell_type": "code",
      "source": [
        "import torch\n",
        "from torchvision import transforms, datasets\n",
        "\n",
        "# Define transformations for preprocessing\n",
        "transform = transforms.Compose([\n",
        "    transforms.Resize((224, 224)),\n",
        "    transforms.ToTensor(),\n",
        "    transforms.Normalize(mean=[0.485, 0.456, 0.406], std=[0.229, 0.224, 0.225])\n",
        "])\n",
        "\n",
        "# Load training, validation, and test datasets using ImageFolder\n",
        "train_dataset = datasets.ImageFolder('train_dataset', transform=transform)\n",
        "val_dataset = datasets.ImageFolder('validation_dataset', transform=transform)\n",
        "test_dataset = datasets.ImageFolder('test_dataset', transform=transform)\n",
        "\n",
        "# Create data loaders for batching and shuffling data\n",
        "train_loader = torch.utils.data.DataLoader(train_dataset, batch_size=32, shuffle=True)\n",
        "val_loader = torch.utils.data.DataLoader(val_dataset, batch_size=32, shuffle=False)\n",
        "test_loader = torch.utils.data.DataLoader(test_dataset, batch_size=32, shuffle=False)\n"
      ],
      "metadata": {
        "id": "tnrDG3yZkfL_"
      },
      "execution_count": 5,
      "outputs": []
    },
    {
      "cell_type": "code",
      "source": [
        "import torchvision.models as models\n",
        "\n",
        "# Load pre-trained ResNet-50 model\n",
        "model = models.resnet50(pretrained=True)\n",
        "\n",
        "# Modify the final fully connected layer for your specific task\n",
        "num_classes = len(train_dataset.classes)\n",
        "model.fc = torch.nn.Linear(model.fc.in_features, num_classes)\n",
        "\n",
        "# Optionally, move model to GPU if available\n",
        "device = torch.device('cuda' if torch.cuda.is_available() else 'cpu')\n",
        "model = model.to(device)\n"
      ],
      "metadata": {
        "colab": {
          "base_uri": "https://localhost:8080/"
        },
        "id": "1INqAgKCkqUA",
        "outputId": "628630f0-9b27-4d66-97d9-dfb02ac67f62"
      },
      "execution_count": 6,
      "outputs": [
        {
          "output_type": "stream",
          "name": "stderr",
          "text": [
            "/usr/local/lib/python3.10/dist-packages/torchvision/models/_utils.py:208: UserWarning: The parameter 'pretrained' is deprecated since 0.13 and may be removed in the future, please use 'weights' instead.\n",
            "  warnings.warn(\n",
            "/usr/local/lib/python3.10/dist-packages/torchvision/models/_utils.py:223: UserWarning: Arguments other than a weight enum or `None` for 'weights' are deprecated since 0.13 and may be removed in the future. The current behavior is equivalent to passing `weights=ResNet50_Weights.IMAGENET1K_V1`. You can also use `weights=ResNet50_Weights.DEFAULT` to get the most up-to-date weights.\n",
            "  warnings.warn(msg)\n",
            "Downloading: \"https://download.pytorch.org/models/resnet50-0676ba61.pth\" to /root/.cache/torch/hub/checkpoints/resnet50-0676ba61.pth\n",
            "100%|██████████| 97.8M/97.8M [00:00<00:00, 166MB/s]\n"
          ]
        }
      ]
    },
    {
      "cell_type": "code",
      "source": [
        "import torch.optim as optim\n",
        "\n",
        "# Define loss function and optimizer\n",
        "criterion = torch.nn.CrossEntropyLoss()\n",
        "optimizer = optim.Adam(model.parameters(), lr=0.001)\n",
        "\n",
        "# Training loop\n",
        "num_epochs = 10\n",
        "for epoch in range(num_epochs):\n",
        "    model.train()\n",
        "    running_loss = 0.0\n",
        "    for inputs, labels in train_loader:\n",
        "        inputs, labels = inputs.to(device), labels.to(device)\n",
        "        optimizer.zero_grad()\n",
        "        outputs = model(inputs)\n",
        "        loss = criterion(outputs, labels)\n",
        "        loss.backward()\n",
        "        optimizer.step()\n",
        "        running_loss += loss.item()\n",
        "    print(f\"Epoch {epoch + 1}, Training Loss: {running_loss / len(train_loader)}\")\n",
        "\n",
        "# Optionally, evaluate the model on the validation set\n",
        "# (calculate validation accuracy, adjust hyperparameters, etc.)\n"
      ],
      "metadata": {
        "colab": {
          "base_uri": "https://localhost:8080/"
        },
        "id": "halvAFH3kyjo",
        "outputId": "47db1391-09c7-4f6d-a628-b23151c8b06d"
      },
      "execution_count": 7,
      "outputs": [
        {
          "output_type": "stream",
          "name": "stdout",
          "text": [
            "Epoch 1, Training Loss: 0.3188421130180359\n",
            "Epoch 2, Training Loss: 0.16942309178184808\n",
            "Epoch 3, Training Loss: 0.17775561728673736\n",
            "Epoch 4, Training Loss: 0.11890113095911901\n",
            "Epoch 5, Training Loss: 0.09921097834651335\n",
            "Epoch 6, Training Loss: 0.09129482621281612\n",
            "Epoch 7, Training Loss: 0.07412011129994558\n",
            "Epoch 8, Training Loss: 0.1680719896969272\n",
            "Epoch 9, Training Loss: 0.07923168439713375\n",
            "Epoch 10, Training Loss: 0.03560149782300336\n"
          ]
        }
      ]
    },
    {
      "cell_type": "code",
      "source": [
        "# Evaluate the model on the test set\n",
        "model.eval()\n",
        "correct = 0\n",
        "total = 0\n",
        "with torch.no_grad():\n",
        "    for inputs, labels in test_loader:\n",
        "        inputs, labels = inputs.to(device), labels.to(device)\n",
        "        outputs = model(inputs)\n",
        "        _, predicted = torch.max(outputs, 1)\n",
        "        total += labels.size(0)\n",
        "        correct += (predicted == labels).sum().item()\n",
        "\n",
        "test_accuracy = correct / total\n",
        "print(f\"Test Accuracy: {test_accuracy}\")\n"
      ],
      "metadata": {
        "colab": {
          "base_uri": "https://localhost:8080/"
        },
        "id": "IxUSzgyEphMh",
        "outputId": "0147227b-fab7-49a0-eb95-5962e74afb92"
      },
      "execution_count": 8,
      "outputs": [
        {
          "output_type": "stream",
          "name": "stdout",
          "text": [
            "Test Accuracy: 0.9817073170731707\n"
          ]
        }
      ]
    }
  ]
}